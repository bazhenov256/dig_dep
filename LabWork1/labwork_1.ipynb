{
 "cells": [
  {
   "cell_type": "markdown",
   "id": "b1edb253-3487-4f28-a105-e3b44cd36dfa",
   "metadata": {},
   "source": [
    "## Лабораторная работа №1"
   ]
  },
  {
   "cell_type": "markdown",
   "id": "d8824aa4-8098-4255-945e-824b7e0ea337",
   "metadata": {},
   "source": [
    "Реализовать два класса Pupa и Lupa. И класс Accountant\n",
    "\n",
    "o\tКласс Accountant должен уметь одинаково успешно работать и с экземплярами класса Pupa и с экземплярами класса Lupa. У класса Accountant должен быть метод give_salary(worker). Который, получая на вход экземпляр классов Pupa или Lupa, вызывает у них метод take_salary(int). Необходимо придумать как реализовать такое поведение. Метод take_salary инкрементирует внутренний счётчик у каждого экземпляра класса на переданное ему значение.\n",
    "\n",
    "o\tПри этом Pupa и Lupa два датасайнтиста и должны работать с числами. У них есть метод do_work (spisok1, spisok2). Pupa считывают из обоих переданных ему списков числа и поэлементно их суммируют. Lupa считывают из обоих переданных ему списков числа и поэлементно их вычитают. Работники обоих типов выводят результат своих трудов на экран\n",
    ".\n",
    "Класс Accountant реализует логику начисления ЗП на ваше усмотрение, но будьте внимательны чтобы не получилось так, что Lupa получит за Pupa, а Pupa ничего не получит.\n",
    "т.\n"
   ]
  },
  {
   "cell_type": "code",
   "execution_count": 1,
   "id": "052be0b2-555f-4d11-9129-e9951733e434",
   "metadata": {},
   "outputs": [],
   "source": [
    "#Родительский класс Worker, который Lupa и Pupa унаследуют\n",
    "class Worker:\n",
    "    worker_name = None\n",
    "    def __init__(self):\n",
    "        self.money = 0\n",
    "        self.completed_tasks = 0\n",
    "    def take_salary(self, salary):\n",
    "        self.money += salary \n",
    "        self.completed_tasks = 0\n",
    "    #Дополнительные функции для определения того, сколько работник выполнил задач и сколько денег имеет\n",
    "    \n",
    "    def how_much_money(self):\n",
    "        print(self.worker_name,\" has %d rubles\" %self.money)\n",
    "    \n",
    "    def how_many_tasks(self):\n",
    "        print(self.worker_name, \" has done %d tasks\" %self.completed_tasks)\n",
    "    "
   ]
  },
  {
   "cell_type": "code",
   "execution_count": 2,
   "id": "ce18bdf6-ae6b-4fca-b394-b01ec93c1f53",
   "metadata": {},
   "outputs": [],
   "source": [
    "class Pupa(Worker):\n",
    "    worker_name = 'Pupa'\n",
    "\n",
    "    def do_work(self, spisok1, spisok2):\n",
    "        # Счетчик выполненных заданий попалняется на 1 за каждое выполненную операцию сложения\n",
    "        self.completed_tasks += len(spisok1)\n",
    "        print(self.worker_name, \" has converted %s and %s to %s\" %(spisok1, spisok2, [spisok1[i] + spisok2[i] for i in range(len(spisok1))]))\n",
    "\n",
    "\n",
    "        "
   ]
  },
  {
   "cell_type": "code",
   "execution_count": 3,
   "id": "255d24d1-9aee-4a21-9522-839d2de1fc62",
   "metadata": {},
   "outputs": [],
   "source": [
    "class Lupa(Worker):\n",
    "    worker_name = 'Lupa'\n",
    "\n",
    "    def do_work(self, spisok1, spisok2):\n",
    "        #Вычитание в компании ценится больше, поэтому счетчик пополняется на 2 за каждое выполнение операции вычитания\n",
    "        self.completed_tasks += len(spisok1) * 2\n",
    "        print(self.worker_name, \" has converted %s and %s to %s\" %(spisok1, spisok2, [spisok1[i] - spisok2[i] for i in range(len(spisok1))]))\n",
    "        \n"
   ]
  },
  {
   "cell_type": "code",
   "execution_count": 4,
   "id": "105f7f16-1c7c-4feb-858b-6cbcd3c81929",
   "metadata": {},
   "outputs": [],
   "source": [
    "class Accountant:\n",
    "    def give_salary(self, worker):\n",
    "        #За каждую единицу счетчика выдается 10 рублей\n",
    "        worker.take_salary(worker.completed_tasks * 10)"
   ]
  },
  {
   "cell_type": "code",
   "execution_count": 5,
   "id": "ca232c12-f84d-4cfc-a438-2c1a3f079dce",
   "metadata": {},
   "outputs": [
    {
     "name": "stdout",
     "output_type": "stream",
     "text": [
      "Lupa  has converted [10, 12, 14, 16, 18] and [0, 1, 2, 3, 4] to [10, 11, 12, 13, 14]\n",
      "Lupa  has converted [10, 12, 14, 16, 18] and [0, 1, 2, 3, 4] to [10, 11, 12, 13, 14]\n",
      "Lupa  has converted [10, 12, 14, 16, 18] and [0, 1, 2, 3, 4] to [10, 11, 12, 13, 14]\n",
      "Lupa  has converted [10, 12, 14, 16, 18] and [0, 1, 2, 3, 4] to [10, 11, 12, 13, 14]\n",
      "Lupa  has converted [10, 12, 14, 16, 18] and [0, 1, 2, 3, 4] to [10, 11, 12, 13, 14]\n",
      "Lupa  has converted [10, 12, 14, 16, 18] and [0, 1, 2, 3, 4] to [10, 11, 12, 13, 14]\n",
      "Lupa  has converted [10, 12, 14, 16, 18] and [0, 1, 2, 3, 4] to [10, 11, 12, 13, 14]\n",
      "Lupa  has converted [10, 12, 14, 16, 18] and [0, 1, 2, 3, 4] to [10, 11, 12, 13, 14]\n",
      "Lupa  has converted [10, 12, 14, 16, 18] and [0, 1, 2, 3, 4] to [10, 11, 12, 13, 14]\n",
      "Lupa  has converted [10, 12, 14, 16, 18] and [0, 1, 2, 3, 4] to [10, 11, 12, 13, 14]\n",
      "Pupa  has converted [10, 12, 14, 16, 18] and [0, 1, 2, 3, 4] to [10, 13, 16, 19, 22]\n",
      "Pupa  has converted [10, 12, 14, 16, 18] and [0, 1, 2, 3, 4] to [10, 13, 16, 19, 22]\n",
      "Pupa  has converted [10, 12, 14, 16, 18] and [0, 1, 2, 3, 4] to [10, 13, 16, 19, 22]\n",
      "Pupa  has converted [10, 12, 14, 16, 18] and [0, 1, 2, 3, 4] to [10, 13, 16, 19, 22]\n",
      "Pupa  has converted [10, 12, 14, 16, 18] and [0, 1, 2, 3, 4] to [10, 13, 16, 19, 22]\n",
      "Pupa  has converted [10, 12, 14, 16, 18] and [0, 1, 2, 3, 4] to [10, 13, 16, 19, 22]\n",
      "Pupa  has converted [10, 12, 14, 16, 18] and [0, 1, 2, 3, 4] to [10, 13, 16, 19, 22]\n",
      "Pupa  has converted [10, 12, 14, 16, 18] and [0, 1, 2, 3, 4] to [10, 13, 16, 19, 22]\n",
      "Pupa  has converted [10, 12, 14, 16, 18] and [0, 1, 2, 3, 4] to [10, 13, 16, 19, 22]\n",
      "Pupa  has converted [10, 12, 14, 16, 18] and [0, 1, 2, 3, 4] to [10, 13, 16, 19, 22]\n",
      "Pupa  has converted [10, 12, 14, 16, 18] and [0, 1, 2, 3, 4] to [10, 13, 16, 19, 22]\n",
      "Pupa  has converted [10, 12, 14, 16, 18] and [0, 1, 2, 3, 4] to [10, 13, 16, 19, 22]\n",
      "Pupa  has converted [10, 12, 14, 16, 18] and [0, 1, 2, 3, 4] to [10, 13, 16, 19, 22]\n",
      "Pupa  has converted [10, 12, 14, 16, 18] and [0, 1, 2, 3, 4] to [10, 13, 16, 19, 22]\n",
      "Pupa  has converted [10, 12, 14, 16, 18] and [0, 1, 2, 3, 4] to [10, 13, 16, 19, 22]\n",
      "Pupa  has converted [10, 12, 14, 16, 18] and [0, 1, 2, 3, 4] to [10, 13, 16, 19, 22]\n",
      "Pupa  has converted [10, 12, 14, 16, 18] and [0, 1, 2, 3, 4] to [10, 13, 16, 19, 22]\n",
      "Pupa  has converted [10, 12, 14, 16, 18] and [0, 1, 2, 3, 4] to [10, 13, 16, 19, 22]\n",
      "Pupa  has converted [10, 12, 14, 16, 18] and [0, 1, 2, 3, 4] to [10, 13, 16, 19, 22]\n",
      "Pupa  has converted [10, 12, 14, 16, 18] and [0, 1, 2, 3, 4] to [10, 13, 16, 19, 22]\n",
      "Pupa  has converted [10, 12, 14, 16, 18] and [0, 1, 2, 3, 4] to [10, 13, 16, 19, 22]\n",
      "Pupa  has converted [10, 12, 14, 16, 18] and [0, 1, 2, 3, 4] to [10, 13, 16, 19, 22]\n",
      "Pupa  has converted [10, 12, 14, 16, 18] and [0, 1, 2, 3, 4] to [10, 13, 16, 19, 22]\n",
      "Pupa  has converted [10, 12, 14, 16, 18] and [0, 1, 2, 3, 4] to [10, 13, 16, 19, 22]\n",
      "Pupa  has converted [10, 12, 14, 16, 18] and [0, 1, 2, 3, 4] to [10, 13, 16, 19, 22]\n",
      "Pupa  has converted [10, 12, 14, 16, 18] and [0, 1, 2, 3, 4] to [10, 13, 16, 19, 22]\n",
      "Pupa  has converted [10, 12, 14, 16, 18] and [0, 1, 2, 3, 4] to [10, 13, 16, 19, 22]\n",
      "Pupa  has converted [10, 12, 14, 16, 18] and [0, 1, 2, 3, 4] to [10, 13, 16, 19, 22]\n",
      "Pupa  has converted [10, 12, 14, 16, 18] and [0, 1, 2, 3, 4] to [10, 13, 16, 19, 22]\n",
      "Pupa  has converted [10, 12, 14, 16, 18] and [0, 1, 2, 3, 4] to [10, 13, 16, 19, 22]\n"
     ]
    }
   ],
   "source": [
    "lupa = Lupa()\n",
    "pupa = Pupa()\n",
    "accountant = Accountant()\n",
    "\n",
    "list1 = list(range(10, 20, 2))\n",
    "list2 = list(range(5))\n",
    "\n",
    "for i in range(10):\n",
    "    lupa.do_work(list1, list2)\n",
    "\n",
    "for i in range(30):\n",
    "    pupa.do_work(list1, list2)"
   ]
  },
  {
   "cell_type": "code",
   "execution_count": 6,
   "id": "0611fd6e",
   "metadata": {
    "scrolled": true
   },
   "outputs": [
    {
     "name": "stdout",
     "output_type": "stream",
     "text": [
      "Lupa  has done 100 tasks\n",
      "Pupa  has done 150 tasks\n",
      "Accountant gives salary to Pupa and Lupa\n",
      "Lupa  has done 0 tasks\n",
      "Pupa  has done 0 tasks\n",
      "Lupa  has 1000 rubles\n",
      "Pupa  has 1500 rubles\n"
     ]
    }
   ],
   "source": [
    "lupa.how_many_tasks()\n",
    "pupa.how_many_tasks()\n",
    "\n",
    "accountant.give_salary(lupa)\n",
    "accountant.give_salary(pupa)\n",
    "\n",
    "print(\"Accountant gives salary to Pupa and Lupa\")\n",
    "\n",
    "lupa.how_many_tasks()\n",
    "pupa.how_many_tasks()\n",
    "\n",
    "lupa.how_much_money()\n",
    "pupa.how_much_money()"
   ]
  },
  {
   "cell_type": "code",
   "execution_count": null,
   "id": "a1fa5cc8",
   "metadata": {},
   "outputs": [],
   "source": []
  }
 ],
 "metadata": {
  "kernelspec": {
   "display_name": "Python 3 (ipykernel)",
   "language": "python",
   "name": "python3"
  },
  "language_info": {
   "codemirror_mode": {
    "name": "ipython",
    "version": 3
   },
   "file_extension": ".py",
   "mimetype": "text/x-python",
   "name": "python",
   "nbconvert_exporter": "python",
   "pygments_lexer": "ipython3",
   "version": "3.9.13"
  }
 },
 "nbformat": 4,
 "nbformat_minor": 5
}
